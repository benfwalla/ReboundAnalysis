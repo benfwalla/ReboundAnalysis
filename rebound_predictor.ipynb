{
 "cells": [
  {
   "cell_type": "code",
   "execution_count": 1,
   "id": "e6e6f4c9-9cc3-4403-a290-7d36a8d8db4d",
   "metadata": {},
   "outputs": [],
   "source": [
    "import pandas as pd\n",
    "import numpy as np\n",
    "from sklearn.model_selection import train_test_split\n",
    "from sklearn.linear_model import LinearRegression\n",
    "from sklearn.metrics import r2_score"
   ]
  },
  {
   "cell_type": "code",
   "execution_count": 2,
   "id": "3f271016-5ab0-4d03-a442-384ac4b463e9",
   "metadata": {},
   "outputs": [],
   "source": [
    "import warnings\n",
    "warnings.filterwarnings(\"ignore\")"
   ]
  },
  {
   "cell_type": "markdown",
   "id": "f94ddae6-ac5b-482a-9319-71c81ba6c363",
   "metadata": {},
   "source": [
    "## Rebound Predictor\n",
    "The following is a Linear Regression model designed to predict the (x, y) location of a rebound on [the court](img/bball_court_north.png) given the (x, y) coordinates of a given shot. The data is trained and tested on [data/all_data_cleaned.csv](data/all_data_cleaned.csv), which was hand-created from observing shots and rebounds during amateur basketball games.\n",
    "\n",
    "The objective of this model is to build a user-friendly app that allows a user to click anywhere on a court, to represent a shot, and have the model display the best possible place for a player to position themself for a rebound."
   ]
  },
  {
   "cell_type": "code",
   "execution_count": 3,
   "id": "a19c9271-ed7f-4357-a9a8-79ed8e6d1586",
   "metadata": {},
   "outputs": [],
   "source": [
    "# Load the CSV\n",
    "df = pd.read_csv(\"data/all_data_enhanced.csv\")"
   ]
  },
  {
   "cell_type": "code",
   "execution_count": 4,
   "id": "0a17073e-3d34-410f-a58d-46f8c783c3e6",
   "metadata": {},
   "outputs": [
    {
     "data": {
      "text/html": [
       "<div>\n",
       "<style scoped>\n",
       "    .dataframe tbody tr th:only-of-type {\n",
       "        vertical-align: middle;\n",
       "    }\n",
       "\n",
       "    .dataframe tbody tr th {\n",
       "        vertical-align: top;\n",
       "    }\n",
       "\n",
       "    .dataframe thead th {\n",
       "        text-align: right;\n",
       "    }\n",
       "</style>\n",
       "<table border=\"1\" class=\"dataframe\">\n",
       "  <thead>\n",
       "    <tr style=\"text-align: right;\">\n",
       "      <th></th>\n",
       "      <th>shot_x</th>\n",
       "      <th>shot_y</th>\n",
       "      <th>shot_distance_feet</th>\n",
       "      <th>rebound_x</th>\n",
       "      <th>rebound_y</th>\n",
       "    </tr>\n",
       "  </thead>\n",
       "  <tbody>\n",
       "    <tr>\n",
       "      <th>shot_x</th>\n",
       "      <td>1.000000</td>\n",
       "      <td>-0.089852</td>\n",
       "      <td>0.014989</td>\n",
       "      <td>-0.035064</td>\n",
       "      <td>0.038844</td>\n",
       "    </tr>\n",
       "    <tr>\n",
       "      <th>shot_y</th>\n",
       "      <td>-0.089852</td>\n",
       "      <td>1.000000</td>\n",
       "      <td>-0.758828</td>\n",
       "      <td>0.032679</td>\n",
       "      <td>0.268957</td>\n",
       "    </tr>\n",
       "    <tr>\n",
       "      <th>shot_distance_feet</th>\n",
       "      <td>0.014989</td>\n",
       "      <td>-0.758828</td>\n",
       "      <td>1.000000</td>\n",
       "      <td>-0.018046</td>\n",
       "      <td>-0.278209</td>\n",
       "    </tr>\n",
       "    <tr>\n",
       "      <th>rebound_x</th>\n",
       "      <td>-0.035064</td>\n",
       "      <td>0.032679</td>\n",
       "      <td>-0.018046</td>\n",
       "      <td>1.000000</td>\n",
       "      <td>0.066753</td>\n",
       "    </tr>\n",
       "    <tr>\n",
       "      <th>rebound_y</th>\n",
       "      <td>0.038844</td>\n",
       "      <td>0.268957</td>\n",
       "      <td>-0.278209</td>\n",
       "      <td>0.066753</td>\n",
       "      <td>1.000000</td>\n",
       "    </tr>\n",
       "  </tbody>\n",
       "</table>\n",
       "</div>"
      ],
      "text/plain": [
       "                      shot_x    shot_y  shot_distance_feet  rebound_x  \\\n",
       "shot_x              1.000000 -0.089852            0.014989  -0.035064   \n",
       "shot_y             -0.089852  1.000000           -0.758828   0.032679   \n",
       "shot_distance_feet  0.014989 -0.758828            1.000000  -0.018046   \n",
       "rebound_x          -0.035064  0.032679           -0.018046   1.000000   \n",
       "rebound_y           0.038844  0.268957           -0.278209   0.066753   \n",
       "\n",
       "                    rebound_y  \n",
       "shot_x               0.038844  \n",
       "shot_y               0.268957  \n",
       "shot_distance_feet  -0.278209  \n",
       "rebound_x            0.066753  \n",
       "rebound_y            1.000000  "
      ]
     },
     "execution_count": 4,
     "metadata": {},
     "output_type": "execute_result"
    }
   ],
   "source": [
    "# Correlation\n",
    "correlation_cols = ['shot_x', 'shot_y', 'shot_distance_feet', 'rebound_x', 'rebound_y']\n",
    "correlation_matrix = df[correlation_cols].corr()\n",
    "\n",
    "correlation_matrix"
   ]
  },
  {
   "cell_type": "code",
   "execution_count": 5,
   "id": "ab06b3e1-e3df-40e6-be02-8a4abf904373",
   "metadata": {},
   "outputs": [],
   "source": [
    "# Extract the two inputs (shot_x, shot_y) and represent them as 'X'\n",
    "X = df[['shot_x', 'shot_y']]\n",
    "\n",
    "# Extract the two outputs (rebound_x, rebound_y) and represent them as 'y'\n",
    "y = df[['rebound_x', 'rebound_y']]"
   ]
  },
  {
   "cell_type": "code",
   "execution_count": 6,
   "id": "6828eeea-70f1-41fb-99ac-f206f15c0471",
   "metadata": {},
   "outputs": [],
   "source": [
    "# Split the dataset into training and testing sets (80/20 split)\n",
    "X_train, X_test, y_train, y_test = train_test_split(X, y, test_size=0.2, random_state=41)"
   ]
  },
  {
   "cell_type": "code",
   "execution_count": 7,
   "id": "9954363a-1949-4065-80b6-0b69b1da6a6d",
   "metadata": {},
   "outputs": [],
   "source": [
    "# Create a linear regression model\n",
    "model = LinearRegression()"
   ]
  },
  {
   "cell_type": "code",
   "execution_count": 8,
   "id": "91983ba0-18dc-424f-97f1-a30fd612c3bf",
   "metadata": {},
   "outputs": [
    {
     "data": {
      "text/html": [
       "<style>#sk-container-id-1 {color: black;}#sk-container-id-1 pre{padding: 0;}#sk-container-id-1 div.sk-toggleable {background-color: white;}#sk-container-id-1 label.sk-toggleable__label {cursor: pointer;display: block;width: 100%;margin-bottom: 0;padding: 0.3em;box-sizing: border-box;text-align: center;}#sk-container-id-1 label.sk-toggleable__label-arrow:before {content: \"▸\";float: left;margin-right: 0.25em;color: #696969;}#sk-container-id-1 label.sk-toggleable__label-arrow:hover:before {color: black;}#sk-container-id-1 div.sk-estimator:hover label.sk-toggleable__label-arrow:before {color: black;}#sk-container-id-1 div.sk-toggleable__content {max-height: 0;max-width: 0;overflow: hidden;text-align: left;background-color: #f0f8ff;}#sk-container-id-1 div.sk-toggleable__content pre {margin: 0.2em;color: black;border-radius: 0.25em;background-color: #f0f8ff;}#sk-container-id-1 input.sk-toggleable__control:checked~div.sk-toggleable__content {max-height: 200px;max-width: 100%;overflow: auto;}#sk-container-id-1 input.sk-toggleable__control:checked~label.sk-toggleable__label-arrow:before {content: \"▾\";}#sk-container-id-1 div.sk-estimator input.sk-toggleable__control:checked~label.sk-toggleable__label {background-color: #d4ebff;}#sk-container-id-1 div.sk-label input.sk-toggleable__control:checked~label.sk-toggleable__label {background-color: #d4ebff;}#sk-container-id-1 input.sk-hidden--visually {border: 0;clip: rect(1px 1px 1px 1px);clip: rect(1px, 1px, 1px, 1px);height: 1px;margin: -1px;overflow: hidden;padding: 0;position: absolute;width: 1px;}#sk-container-id-1 div.sk-estimator {font-family: monospace;background-color: #f0f8ff;border: 1px dotted black;border-radius: 0.25em;box-sizing: border-box;margin-bottom: 0.5em;}#sk-container-id-1 div.sk-estimator:hover {background-color: #d4ebff;}#sk-container-id-1 div.sk-parallel-item::after {content: \"\";width: 100%;border-bottom: 1px solid gray;flex-grow: 1;}#sk-container-id-1 div.sk-label:hover label.sk-toggleable__label {background-color: #d4ebff;}#sk-container-id-1 div.sk-serial::before {content: \"\";position: absolute;border-left: 1px solid gray;box-sizing: border-box;top: 0;bottom: 0;left: 50%;z-index: 0;}#sk-container-id-1 div.sk-serial {display: flex;flex-direction: column;align-items: center;background-color: white;padding-right: 0.2em;padding-left: 0.2em;position: relative;}#sk-container-id-1 div.sk-item {position: relative;z-index: 1;}#sk-container-id-1 div.sk-parallel {display: flex;align-items: stretch;justify-content: center;background-color: white;position: relative;}#sk-container-id-1 div.sk-item::before, #sk-container-id-1 div.sk-parallel-item::before {content: \"\";position: absolute;border-left: 1px solid gray;box-sizing: border-box;top: 0;bottom: 0;left: 50%;z-index: -1;}#sk-container-id-1 div.sk-parallel-item {display: flex;flex-direction: column;z-index: 1;position: relative;background-color: white;}#sk-container-id-1 div.sk-parallel-item:first-child::after {align-self: flex-end;width: 50%;}#sk-container-id-1 div.sk-parallel-item:last-child::after {align-self: flex-start;width: 50%;}#sk-container-id-1 div.sk-parallel-item:only-child::after {width: 0;}#sk-container-id-1 div.sk-dashed-wrapped {border: 1px dashed gray;margin: 0 0.4em 0.5em 0.4em;box-sizing: border-box;padding-bottom: 0.4em;background-color: white;}#sk-container-id-1 div.sk-label label {font-family: monospace;font-weight: bold;display: inline-block;line-height: 1.2em;}#sk-container-id-1 div.sk-label-container {text-align: center;}#sk-container-id-1 div.sk-container {/* jupyter's `normalize.less` sets `[hidden] { display: none; }` but bootstrap.min.css set `[hidden] { display: none !important; }` so we also need the `!important` here to be able to override the default hidden behavior on the sphinx rendered scikit-learn.org. See: https://github.com/scikit-learn/scikit-learn/issues/21755 */display: inline-block !important;position: relative;}#sk-container-id-1 div.sk-text-repr-fallback {display: none;}</style><div id=\"sk-container-id-1\" class=\"sk-top-container\"><div class=\"sk-text-repr-fallback\"><pre>LinearRegression()</pre><b>In a Jupyter environment, please rerun this cell to show the HTML representation or trust the notebook. <br />On GitHub, the HTML representation is unable to render, please try loading this page with nbviewer.org.</b></div><div class=\"sk-container\" hidden><div class=\"sk-item\"><div class=\"sk-estimator sk-toggleable\"><input class=\"sk-toggleable__control sk-hidden--visually\" id=\"sk-estimator-id-1\" type=\"checkbox\" checked><label for=\"sk-estimator-id-1\" class=\"sk-toggleable__label sk-toggleable__label-arrow\">LinearRegression</label><div class=\"sk-toggleable__content\"><pre>LinearRegression()</pre></div></div></div></div></div>"
      ],
      "text/plain": [
       "LinearRegression()"
      ]
     },
     "execution_count": 8,
     "metadata": {},
     "output_type": "execute_result"
    }
   ],
   "source": [
    "# Train the model\n",
    "model.fit(X_train, y_train)"
   ]
  },
  {
   "cell_type": "code",
   "execution_count": 9,
   "id": "229c75b1-fcb3-4779-855a-e6297d5c85e8",
   "metadata": {},
   "outputs": [],
   "source": [
    "# Predict rebound positions using the test data\n",
    "y_pred = model.predict(X_test)"
   ]
  },
  {
   "cell_type": "code",
   "execution_count": 10,
   "id": "8f83fb25-c724-402d-88db-df0c7bf526a8",
   "metadata": {},
   "outputs": [
    {
     "name": "stdout",
     "output_type": "stream",
     "text": [
      "R-squared score: 0.043805186592980216\n"
     ]
    }
   ],
   "source": [
    "# Calculate R-squared score\n",
    "r2 = r2_score(y_test, y_pred)\n",
    "\n",
    "print(\"R-squared score:\", r2)"
   ]
  },
  {
   "cell_type": "markdown",
   "id": "b0003e96-77dc-4d5b-8083-b3a013341826",
   "metadata": {},
   "source": [
    "#### `.04` is not a really good R-squared score. It should ideally be close to 1. 😔\n",
    "\n",
    "#### Let's play around with the strongest correlated values to get the best R-square for `rebound_x` and `rebound_y`, separately. `rebound_y` looks to have stronger correlations, so I'll look for that first:"
   ]
  },
  {
   "cell_type": "code",
   "execution_count": 11,
   "id": "478200e0-cc71-4967-978a-e91c440ab9b0",
   "metadata": {},
   "outputs": [],
   "source": [
    "# Extract the two most correlated inputs as 'X'. This is a trial and error step\n",
    "X = df[['shot_y', 'shot_distance_feet']]\n",
    "\n",
    "# Extract the output, rebound_y, and represent it as 'y'\n",
    "y = df[['rebound_y']]"
   ]
  },
  {
   "cell_type": "code",
   "execution_count": 12,
   "id": "675fc42b-14e4-478c-a592-8c73d8be1e90",
   "metadata": {},
   "outputs": [
    {
     "name": "stdout",
     "output_type": "stream",
     "text": [
      "R-squared score: 0.088673953215754\n"
     ]
    }
   ],
   "source": [
    "# Split the dataset into training and testing sets (80/20 split)\n",
    "X_train, X_test, y_train, y_test = train_test_split(X, y, test_size=0.2, random_state=41)\n",
    "\n",
    "# Create a linear regression model\n",
    "rebound_y_model = LinearRegression()\n",
    "\n",
    "# Train the model\n",
    "rebound_y_model.fit(X_train, y_train)\n",
    "\n",
    "# Predict rebound_y using the test data\n",
    "predicted_rebound_y = rebound_y_model.predict(X_test)\n",
    "\n",
    "# Calculate R-squared score\n",
    "r2 = r2_score(y_test, predicted_rebound_y)\n",
    "\n",
    "print(\"R-squared score:\", r2)"
   ]
  },
  {
   "cell_type": "markdown",
   "id": "c84b362d-0579-4cc3-b87c-cad085bf0106",
   "metadata": {},
   "source": [
    "#### `.09` is the best predictor I can get! It happened when I combined `shot_y` and `shot_distance_feet`- the two strongest correlated inputs\n",
    "\n",
    "### Let's try to find `rebound_x`:"
   ]
  },
  {
   "cell_type": "code",
   "execution_count": 13,
   "id": "3ab7cc56-256a-4721-a2e4-a5dc0a584d44",
   "metadata": {},
   "outputs": [],
   "source": [
    "# Extract the two most correlated inputs as 'X'. This is a trial and error step\n",
    "X = df[['shot_y', 'shot_distance_feet']]\n",
    "\n",
    "# Extract the output, rebound_x, and represent it as 'y'\n",
    "y = df[['rebound_x']]"
   ]
  },
  {
   "cell_type": "code",
   "execution_count": 14,
   "id": "df9e8b25-efb4-424a-8a4e-d53ef5b00428",
   "metadata": {},
   "outputs": [
    {
     "name": "stdout",
     "output_type": "stream",
     "text": [
      "R-squared score: 0.0012471764223208615\n"
     ]
    }
   ],
   "source": [
    "# Split the dataset into training and testing sets (80/20 split)\n",
    "X_train, X_test, y_train, y_test = train_test_split(X, y, test_size=0.2, random_state=41)\n",
    "\n",
    "# Create a linear regression model\n",
    "rebound_x_model = LinearRegression()\n",
    "\n",
    "# Train the model\n",
    "rebound_x_model.fit(X_train, y_train)\n",
    "\n",
    "# Predict rebound_x using the test data\n",
    "predicted_rebound_x = rebound_x_model.predict(X_test)\n",
    "\n",
    "# Calculate R-squared score\n",
    "r2 = r2_score(y_test, predicted_rebound_x)\n",
    "\n",
    "print(\"R-squared score:\", r2)"
   ]
  },
  {
   "cell_type": "markdown",
   "id": "16dcfea8-f226-46be-8175-60b8419a30fb",
   "metadata": {},
   "source": [
    "### Hm, well that sucks 😕\n",
    "\n",
    "#### The fact that none of the numeric values have too strong of a correlation makes me think there's either too much variance in rebounding data, or I do not have sufficient data for my project. \n",
    "\n",
    "#### Nevertheless, let's build a quick formula to insert an (x, y) coordinate to get the predicted location. Something tells me the results will be quite boring, as it will likely just place me around the hoop."
   ]
  },
  {
   "cell_type": "code",
   "execution_count": 15,
   "id": "45665e53-228e-4e34-a518-01194e4c069e",
   "metadata": {},
   "outputs": [],
   "source": [
    "def calculate_distance_in_feet(shot_x, shot_y, hoop_x=306, hoop_y=547):\n",
    "    '''Returns the distance, in feet, of a shot coordinate to hoop coordinate\n",
    "    This is a helper function for the next step'''\n",
    "    def distance(x1, y1, x2, y2):\n",
    "        return np.sqrt((x2 - x1)**2 + (y2 - y1)**2)\n",
    "    \n",
    "    # Calculate the pixel distance of the shot from the hoop\n",
    "    pixel_distance = distance(shot_x, shot_y, hoop_x, hoop_y)\n",
    "    \n",
    "    # Convert pixel distance to feet using the provided pixel-to-foot ratio\n",
    "    distance_in_feet = pixel_distance / 14.066666666666666\n",
    "    \n",
    "    return distance_in_feet"
   ]
  },
  {
   "cell_type": "code",
   "execution_count": 16,
   "id": "32f91212-a209-4529-99de-2ca52911ad34",
   "metadata": {},
   "outputs": [],
   "source": [
    "def predict_rebound(shot_x, shot_y):\n",
    "    '''Given a shot_x integer and a shot_y integer returns a tuple of two integers, representing rebound_x and rebound_y'''\n",
    "\n",
    "    shot_distance_feet = calculate_distance_in_feet(shot_x, shot_y)\n",
    "    \n",
    "    # Rebound X\n",
    "    rebound_x_pred = rebound_x_model.predict(np.array([[shot_y, shot_distance_feet]]))\n",
    "    rebound_x = round(rebound_x_pred[0][0])\n",
    "\n",
    "    # Rebound Y\n",
    "    rebound_y_pred = rebound_y_model.predict([[shot_y, shot_distance_feet]])\n",
    "    rebound_y = round(rebound_y_pred[0][0])\n",
    "    \n",
    "    return (rebound_x, rebound_y)"
   ]
  },
  {
   "cell_type": "code",
   "execution_count": 17,
   "id": "c5063571-e728-48a7-9afe-a879e0298f7b",
   "metadata": {},
   "outputs": [
    {
     "data": {
      "text/plain": [
       "(302, 489)"
      ]
     },
     "execution_count": 17,
     "metadata": {},
     "output_type": "execute_result"
    }
   ],
   "source": [
    "predict_rebound(82, 273)"
   ]
  },
  {
   "cell_type": "markdown",
   "id": "79d874ac-4373-4d8a-a993-2ec06b533cf6",
   "metadata": {},
   "source": [
    "#### And here you have it:\n",
    "\n",
    "![](img/the_big_prediction.png)\n",
    "\n",
    "After multiple run throughs, most of them are just showing rebound predictions in the middle of the paint. That makes sense, because I couldn't find a strong enough correlation with any inputs and outputs in the data, so the model biased towards the mean center of the rebound data.\n",
    "\n",
    "Before I make any final conclusions, I should get more data and train it on the model in the future!"
   ]
  },
  {
   "cell_type": "markdown",
   "id": "bdd53bae-798f-4c56-b85d-a2e1a50614c8",
   "metadata": {},
   "source": [
    "### Just for fun, let's see what correlation there is for the NBA data from Patreon:"
   ]
  },
  {
   "cell_type": "code",
   "execution_count": 22,
   "id": "36c6ec35-438e-4e63-a3d5-f78bca23ccd7",
   "metadata": {},
   "outputs": [],
   "source": [
    "# Load the CSV\n",
    "nba_df = pd.read_csv(\"data/nba-tracking-rebounds.csv\")"
   ]
  },
  {
   "cell_type": "code",
   "execution_count": 23,
   "id": "01408405-cbf6-48da-83d1-22e32c44e7fa",
   "metadata": {},
   "outputs": [
    {
     "data": {
      "text/html": [
       "<div>\n",
       "<style scoped>\n",
       "    .dataframe tbody tr th:only-of-type {\n",
       "        vertical-align: middle;\n",
       "    }\n",
       "\n",
       "    .dataframe tbody tr th {\n",
       "        vertical-align: top;\n",
       "    }\n",
       "\n",
       "    .dataframe thead th {\n",
       "        text-align: right;\n",
       "    }\n",
       "</style>\n",
       "<table border=\"1\" class=\"dataframe\">\n",
       "  <thead>\n",
       "    <tr style=\"text-align: right;\">\n",
       "      <th></th>\n",
       "      <th>PossessionNumber</th>\n",
       "      <th>PlayerId</th>\n",
       "      <th>Time</th>\n",
       "      <th>Period</th>\n",
       "      <th>EventNumber</th>\n",
       "      <th>GameId</th>\n",
       "      <th>TeamId</th>\n",
       "      <th>ShotEventNum</th>\n",
       "      <th>StartTime</th>\n",
       "      <th>TeamId.1</th>\n",
       "      <th>OppTeamId</th>\n",
       "      <th>ReboundX</th>\n",
       "      <th>ReboundY</th>\n",
       "      <th>ShotDistance</th>\n",
       "      <th>ShotX</th>\n",
       "      <th>ShotY</th>\n",
       "      <th>ShooterPlayerId</th>\n",
       "      <th>ShotBlockPlayerId</th>\n",
       "      <th>ReboundDistance</th>\n",
       "    </tr>\n",
       "  </thead>\n",
       "  <tbody>\n",
       "    <tr>\n",
       "      <th>count</th>\n",
       "      <td>7164.00000</td>\n",
       "      <td>7.164000e+03</td>\n",
       "      <td>7164.000000</td>\n",
       "      <td>7164.000000</td>\n",
       "      <td>7164.000000</td>\n",
       "      <td>7.164000e+03</td>\n",
       "      <td>7.164000e+03</td>\n",
       "      <td>7164.000000</td>\n",
       "      <td>7164.000000</td>\n",
       "      <td>7.164000e+03</td>\n",
       "      <td>7.164000e+03</td>\n",
       "      <td>7163.000000</td>\n",
       "      <td>7163.000000</td>\n",
       "      <td>7164.000000</td>\n",
       "      <td>7164.000000</td>\n",
       "      <td>7164.000000</td>\n",
       "      <td>7.164000e+03</td>\n",
       "      <td>7.164000e+03</td>\n",
       "      <td>7163.000000</td>\n",
       "    </tr>\n",
       "    <tr>\n",
       "      <th>mean</th>\n",
       "      <td>24.90536</td>\n",
       "      <td>1.042781e+06</td>\n",
       "      <td>349.515773</td>\n",
       "      <td>2.468035</td>\n",
       "      <td>325.838219</td>\n",
       "      <td>2.453612e+07</td>\n",
       "      <td>1.610613e+09</td>\n",
       "      <td>324.739950</td>\n",
       "      <td>366.759771</td>\n",
       "      <td>1.610613e+09</td>\n",
       "      <td>1.610613e+09</td>\n",
       "      <td>-1.893201</td>\n",
       "      <td>43.042021</td>\n",
       "      <td>16.509492</td>\n",
       "      <td>-3.322166</td>\n",
       "      <td>108.648520</td>\n",
       "      <td>1.070783e+06</td>\n",
       "      <td>9.338947e+04</td>\n",
       "      <td>6.795714</td>\n",
       "    </tr>\n",
       "    <tr>\n",
       "      <th>std</th>\n",
       "      <td>14.72808</td>\n",
       "      <td>7.042526e+05</td>\n",
       "      <td>209.968383</td>\n",
       "      <td>1.135622</td>\n",
       "      <td>198.648342</td>\n",
       "      <td>6.765073e+06</td>\n",
       "      <td>8.417577e+00</td>\n",
       "      <td>198.638643</td>\n",
       "      <td>210.252225</td>\n",
       "      <td>8.417577e+00</td>\n",
       "      <td>8.316493e+00</td>\n",
       "      <td>58.223145</td>\n",
       "      <td>43.546068</td>\n",
       "      <td>10.102090</td>\n",
       "      <td>127.028060</td>\n",
       "      <td>97.564647</td>\n",
       "      <td>6.977387e+05</td>\n",
       "      <td>3.655511e+05</td>\n",
       "      <td>5.021261</td>\n",
       "    </tr>\n",
       "    <tr>\n",
       "      <th>min</th>\n",
       "      <td>1.00000</td>\n",
       "      <td>1.713000e+03</td>\n",
       "      <td>0.000000</td>\n",
       "      <td>1.000000</td>\n",
       "      <td>8.000000</td>\n",
       "      <td>2.190000e+07</td>\n",
       "      <td>1.610613e+09</td>\n",
       "      <td>7.000000</td>\n",
       "      <td>2.000000</td>\n",
       "      <td>1.610613e+09</td>\n",
       "      <td>1.610613e+09</td>\n",
       "      <td>-240.000000</td>\n",
       "      <td>-50.000000</td>\n",
       "      <td>0.000000</td>\n",
       "      <td>-244.000000</td>\n",
       "      <td>-39.000000</td>\n",
       "      <td>1.713000e+03</td>\n",
       "      <td>0.000000e+00</td>\n",
       "      <td>0.000000</td>\n",
       "    </tr>\n",
       "    <tr>\n",
       "      <th>25%</th>\n",
       "      <td>12.00000</td>\n",
       "      <td>2.026830e+05</td>\n",
       "      <td>167.000000</td>\n",
       "      <td>1.000000</td>\n",
       "      <td>153.000000</td>\n",
       "      <td>2.190031e+07</td>\n",
       "      <td>1.610613e+09</td>\n",
       "      <td>152.000000</td>\n",
       "      <td>184.000000</td>\n",
       "      <td>1.610613e+09</td>\n",
       "      <td>1.610613e+09</td>\n",
       "      <td>-34.000000</td>\n",
       "      <td>20.000000</td>\n",
       "      <td>5.000000</td>\n",
       "      <td>-85.250000</td>\n",
       "      <td>16.000000</td>\n",
       "      <td>2.026960e+05</td>\n",
       "      <td>0.000000e+00</td>\n",
       "      <td>3.600000</td>\n",
       "    </tr>\n",
       "    <tr>\n",
       "      <th>50%</th>\n",
       "      <td>25.00000</td>\n",
       "      <td>1.626181e+06</td>\n",
       "      <td>348.000000</td>\n",
       "      <td>2.000000</td>\n",
       "      <td>321.000000</td>\n",
       "      <td>2.190062e+07</td>\n",
       "      <td>1.610613e+09</td>\n",
       "      <td>320.000000</td>\n",
       "      <td>365.000000</td>\n",
       "      <td>1.610613e+09</td>\n",
       "      <td>1.610613e+09</td>\n",
       "      <td>0.000000</td>\n",
       "      <td>30.000000</td>\n",
       "      <td>22.300000</td>\n",
       "      <td>0.000000</td>\n",
       "      <td>79.000000</td>\n",
       "      <td>1.627741e+06</td>\n",
       "      <td>0.000000e+00</td>\n",
       "      <td>5.000000</td>\n",
       "    </tr>\n",
       "    <tr>\n",
       "      <th>75%</th>\n",
       "      <td>37.00000</td>\n",
       "      <td>1.628384e+06</td>\n",
       "      <td>534.000000</td>\n",
       "      <td>3.000000</td>\n",
       "      <td>493.000000</td>\n",
       "      <td>2.190096e+07</td>\n",
       "      <td>1.610613e+09</td>\n",
       "      <td>492.000000</td>\n",
       "      <td>550.000000</td>\n",
       "      <td>1.610613e+09</td>\n",
       "      <td>1.610613e+09</td>\n",
       "      <td>30.000000</td>\n",
       "      <td>50.000000</td>\n",
       "      <td>25.500000</td>\n",
       "      <td>68.000000</td>\n",
       "      <td>206.000000</td>\n",
       "      <td>1.628369e+06</td>\n",
       "      <td>0.000000e+00</td>\n",
       "      <td>8.700000</td>\n",
       "    </tr>\n",
       "    <tr>\n",
       "      <th>max</th>\n",
       "      <td>62.00000</td>\n",
       "      <td>1.629750e+06</td>\n",
       "      <td>708.000000</td>\n",
       "      <td>6.000000</td>\n",
       "      <td>803.000000</td>\n",
       "      <td>4.190022e+07</td>\n",
       "      <td>1.610613e+09</td>\n",
       "      <td>802.000000</td>\n",
       "      <td>720.000000</td>\n",
       "      <td>1.610613e+09</td>\n",
       "      <td>1.610613e+09</td>\n",
       "      <td>233.000000</td>\n",
       "      <td>420.000000</td>\n",
       "      <td>36.900000</td>\n",
       "      <td>246.000000</td>\n",
       "      <td>369.000000</td>\n",
       "      <td>1.630567e+06</td>\n",
       "      <td>1.629750e+06</td>\n",
       "      <td>42.500000</td>\n",
       "    </tr>\n",
       "  </tbody>\n",
       "</table>\n",
       "</div>"
      ],
      "text/plain": [
       "       PossessionNumber      PlayerId         Time       Period  EventNumber  \\\n",
       "count        7164.00000  7.164000e+03  7164.000000  7164.000000  7164.000000   \n",
       "mean           24.90536  1.042781e+06   349.515773     2.468035   325.838219   \n",
       "std            14.72808  7.042526e+05   209.968383     1.135622   198.648342   \n",
       "min             1.00000  1.713000e+03     0.000000     1.000000     8.000000   \n",
       "25%            12.00000  2.026830e+05   167.000000     1.000000   153.000000   \n",
       "50%            25.00000  1.626181e+06   348.000000     2.000000   321.000000   \n",
       "75%            37.00000  1.628384e+06   534.000000     3.000000   493.000000   \n",
       "max            62.00000  1.629750e+06   708.000000     6.000000   803.000000   \n",
       "\n",
       "             GameId        TeamId  ShotEventNum    StartTime      TeamId.1  \\\n",
       "count  7.164000e+03  7.164000e+03   7164.000000  7164.000000  7.164000e+03   \n",
       "mean   2.453612e+07  1.610613e+09    324.739950   366.759771  1.610613e+09   \n",
       "std    6.765073e+06  8.417577e+00    198.638643   210.252225  8.417577e+00   \n",
       "min    2.190000e+07  1.610613e+09      7.000000     2.000000  1.610613e+09   \n",
       "25%    2.190031e+07  1.610613e+09    152.000000   184.000000  1.610613e+09   \n",
       "50%    2.190062e+07  1.610613e+09    320.000000   365.000000  1.610613e+09   \n",
       "75%    2.190096e+07  1.610613e+09    492.000000   550.000000  1.610613e+09   \n",
       "max    4.190022e+07  1.610613e+09    802.000000   720.000000  1.610613e+09   \n",
       "\n",
       "          OppTeamId     ReboundX     ReboundY  ShotDistance        ShotX  \\\n",
       "count  7.164000e+03  7163.000000  7163.000000   7164.000000  7164.000000   \n",
       "mean   1.610613e+09    -1.893201    43.042021     16.509492    -3.322166   \n",
       "std    8.316493e+00    58.223145    43.546068     10.102090   127.028060   \n",
       "min    1.610613e+09  -240.000000   -50.000000      0.000000  -244.000000   \n",
       "25%    1.610613e+09   -34.000000    20.000000      5.000000   -85.250000   \n",
       "50%    1.610613e+09     0.000000    30.000000     22.300000     0.000000   \n",
       "75%    1.610613e+09    30.000000    50.000000     25.500000    68.000000   \n",
       "max    1.610613e+09   233.000000   420.000000     36.900000   246.000000   \n",
       "\n",
       "             ShotY  ShooterPlayerId  ShotBlockPlayerId  ReboundDistance  \n",
       "count  7164.000000     7.164000e+03       7.164000e+03      7163.000000  \n",
       "mean    108.648520     1.070783e+06       9.338947e+04         6.795714  \n",
       "std      97.564647     6.977387e+05       3.655511e+05         5.021261  \n",
       "min     -39.000000     1.713000e+03       0.000000e+00         0.000000  \n",
       "25%      16.000000     2.026960e+05       0.000000e+00         3.600000  \n",
       "50%      79.000000     1.627741e+06       0.000000e+00         5.000000  \n",
       "75%     206.000000     1.628369e+06       0.000000e+00         8.700000  \n",
       "max     369.000000     1.630567e+06       1.629750e+06        42.500000  "
      ]
     },
     "execution_count": 23,
     "metadata": {},
     "output_type": "execute_result"
    }
   ],
   "source": [
    "# Correlation\n",
    "nba_df.describe()"
   ]
  },
  {
   "cell_type": "code",
   "execution_count": 25,
   "id": "3a406ff0-8c8d-4564-85c9-2f3aa3fe075f",
   "metadata": {},
   "outputs": [
    {
     "data": {
      "text/html": [
       "<div>\n",
       "<style scoped>\n",
       "    .dataframe tbody tr th:only-of-type {\n",
       "        vertical-align: middle;\n",
       "    }\n",
       "\n",
       "    .dataframe tbody tr th {\n",
       "        vertical-align: top;\n",
       "    }\n",
       "\n",
       "    .dataframe thead th {\n",
       "        text-align: right;\n",
       "    }\n",
       "</style>\n",
       "<table border=\"1\" class=\"dataframe\">\n",
       "  <thead>\n",
       "    <tr style=\"text-align: right;\">\n",
       "      <th></th>\n",
       "      <th>ShotX</th>\n",
       "      <th>ShotY</th>\n",
       "      <th>ShotDistance</th>\n",
       "      <th>ReboundX</th>\n",
       "      <th>ReboundY</th>\n",
       "    </tr>\n",
       "  </thead>\n",
       "  <tbody>\n",
       "    <tr>\n",
       "      <th>ShotX</th>\n",
       "      <td>1.000000</td>\n",
       "      <td>0.001202</td>\n",
       "      <td>-0.026774</td>\n",
       "      <td>-0.011687</td>\n",
       "      <td>-0.000045</td>\n",
       "    </tr>\n",
       "    <tr>\n",
       "      <th>ShotY</th>\n",
       "      <td>0.001202</td>\n",
       "      <td>1.000000</td>\n",
       "      <td>0.732829</td>\n",
       "      <td>0.002156</td>\n",
       "      <td>0.214942</td>\n",
       "    </tr>\n",
       "    <tr>\n",
       "      <th>ShotDistance</th>\n",
       "      <td>-0.026774</td>\n",
       "      <td>0.732829</td>\n",
       "      <td>1.000000</td>\n",
       "      <td>0.019366</td>\n",
       "      <td>0.205237</td>\n",
       "    </tr>\n",
       "    <tr>\n",
       "      <th>ReboundX</th>\n",
       "      <td>-0.011687</td>\n",
       "      <td>0.002156</td>\n",
       "      <td>0.019366</td>\n",
       "      <td>1.000000</td>\n",
       "      <td>0.009660</td>\n",
       "    </tr>\n",
       "    <tr>\n",
       "      <th>ReboundY</th>\n",
       "      <td>-0.000045</td>\n",
       "      <td>0.214942</td>\n",
       "      <td>0.205237</td>\n",
       "      <td>0.009660</td>\n",
       "      <td>1.000000</td>\n",
       "    </tr>\n",
       "  </tbody>\n",
       "</table>\n",
       "</div>"
      ],
      "text/plain": [
       "                 ShotX     ShotY  ShotDistance  ReboundX  ReboundY\n",
       "ShotX         1.000000  0.001202     -0.026774 -0.011687 -0.000045\n",
       "ShotY         0.001202  1.000000      0.732829  0.002156  0.214942\n",
       "ShotDistance -0.026774  0.732829      1.000000  0.019366  0.205237\n",
       "ReboundX     -0.011687  0.002156      0.019366  1.000000  0.009660\n",
       "ReboundY     -0.000045  0.214942      0.205237  0.009660  1.000000"
      ]
     },
     "execution_count": 25,
     "metadata": {},
     "output_type": "execute_result"
    }
   ],
   "source": [
    "nba_correlation_cols = ['ShotX', 'ShotY', 'ShotDistance', 'ReboundX', 'ReboundY']\n",
    "nba_correlation_matrix = nba_df[nba_correlation_cols].corr()\n",
    "\n",
    "nba_correlation_matrix"
   ]
  },
  {
   "cell_type": "markdown",
   "id": "e1c6d5bb-8676-4c46-a499-429a3952509a",
   "metadata": {},
   "source": [
    "Looks like there's not a lot of correlation in here either. Maybe, I'll need to bring in more advanced features like the spin and arc and fatigue, to make a better prediction model"
   ]
  },
  {
   "cell_type": "code",
   "execution_count": null,
   "id": "33f50332-100c-4cf5-b20a-a75943e961c0",
   "metadata": {},
   "outputs": [],
   "source": []
  }
 ],
 "metadata": {
  "kernelspec": {
   "display_name": "Python 3 (ipykernel)",
   "language": "python",
   "name": "python3"
  },
  "language_info": {
   "codemirror_mode": {
    "name": "ipython",
    "version": 3
   },
   "file_extension": ".py",
   "mimetype": "text/x-python",
   "name": "python",
   "nbconvert_exporter": "python",
   "pygments_lexer": "ipython3",
   "version": "3.11.4"
  }
 },
 "nbformat": 4,
 "nbformat_minor": 5
}
