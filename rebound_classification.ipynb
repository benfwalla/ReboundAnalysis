{
 "cells": [
  {
   "cell_type": "code",
   "execution_count": 25,
   "id": "0099265c-5104-489d-a514-2cba769c5323",
   "metadata": {
    "tags": []
   },
   "outputs": [],
   "source": [
    "import pandas as pd\n",
    "import numpy as np\n",
    "import matplotlib.pyplot as plt"
   ]
  },
  {
   "cell_type": "markdown",
   "id": "16ed10e1-89bc-4d8c-bb52-1e6e4cafd94e",
   "metadata": {},
   "source": [
    "# Rebound Distance\n",
    "I thought it would be good to also get the distance (in feet) the rebound was taken. My coordinates are in pixels, so I need to code a way to convert pixels to feet. I know the free throw line is 15 feet away from the hoop, and the center of the free line is (306, 336) on my south-facing coordinate, so I can use that information to get the distance, in feet, of a given coordinate from the hoop"
   ]
  },
  {
   "cell_type": "code",
   "execution_count": 26,
   "id": "73ed7065-ed97-4df5-b87a-32b048d434f6",
   "metadata": {},
   "outputs": [],
   "source": [
    "# Load the CSV\n",
    "shots_data = pd.read_csv(\"data/all_rebounds.csv\")"
   ]
  },
  {
   "cell_type": "code",
   "execution_count": 27,
   "id": "e9626180-9fbc-4808-9f11-f6019477dc21",
   "metadata": {},
   "outputs": [],
   "source": [
    "# Compute Euclidean distance between two points (ChatGPT-generated code)\n",
    "def distance(x1, y1, x2, y2):\n",
    "    return np.sqrt((x1 - x2)**2 + (y1 - y2)**2)"
   ]
  },
  {
   "cell_type": "code",
   "execution_count": 28,
   "id": "0f3ce793-a38f-4abd-af95-78fdc5dc9198",
   "metadata": {},
   "outputs": [],
   "source": [
    "# Hoop Location\n",
    "hoop_x = 306\n",
    "hoop_y = 547"
   ]
  },
  {
   "cell_type": "code",
   "execution_count": 29,
   "id": "bf7b265f-c833-4dd1-b335-492206920210",
   "metadata": {},
   "outputs": [
    {
     "data": {
      "text/html": [
       "<div>\n",
       "<style scoped>\n",
       "    .dataframe tbody tr th:only-of-type {\n",
       "        vertical-align: middle;\n",
       "    }\n",
       "\n",
       "    .dataframe tbody tr th {\n",
       "        vertical-align: top;\n",
       "    }\n",
       "\n",
       "    .dataframe thead th {\n",
       "        text-align: right;\n",
       "    }\n",
       "</style>\n",
       "<table border=\"1\" class=\"dataframe\">\n",
       "  <thead>\n",
       "    <tr style=\"text-align: right;\">\n",
       "      <th></th>\n",
       "      <th>c_rebound_x</th>\n",
       "      <th>c_rebound_y</th>\n",
       "      <th>rebound_distance_feet</th>\n",
       "    </tr>\n",
       "  </thead>\n",
       "  <tbody>\n",
       "    <tr>\n",
       "      <th>0</th>\n",
       "      <td>285</td>\n",
       "      <td>518</td>\n",
       "      <td>2.545381</td>\n",
       "    </tr>\n",
       "    <tr>\n",
       "      <th>1</th>\n",
       "      <td>319</td>\n",
       "      <td>528</td>\n",
       "      <td>1.636616</td>\n",
       "    </tr>\n",
       "    <tr>\n",
       "      <th>2</th>\n",
       "      <td>439</td>\n",
       "      <td>533</td>\n",
       "      <td>9.507214</td>\n",
       "    </tr>\n",
       "    <tr>\n",
       "      <th>3</th>\n",
       "      <td>346</td>\n",
       "      <td>512</td>\n",
       "      <td>3.778488</td>\n",
       "    </tr>\n",
       "    <tr>\n",
       "      <th>4</th>\n",
       "      <td>492</td>\n",
       "      <td>526</td>\n",
       "      <td>13.306758</td>\n",
       "    </tr>\n",
       "    <tr>\n",
       "      <th>5</th>\n",
       "      <td>321</td>\n",
       "      <td>503</td>\n",
       "      <td>3.304732</td>\n",
       "    </tr>\n",
       "    <tr>\n",
       "      <th>6</th>\n",
       "      <td>245</td>\n",
       "      <td>530</td>\n",
       "      <td>4.501746</td>\n",
       "    </tr>\n",
       "    <tr>\n",
       "      <th>7</th>\n",
       "      <td>287</td>\n",
       "      <td>498</td>\n",
       "      <td>3.736118</td>\n",
       "    </tr>\n",
       "    <tr>\n",
       "      <th>8</th>\n",
       "      <td>222</td>\n",
       "      <td>517</td>\n",
       "      <td>6.340977</td>\n",
       "    </tr>\n",
       "    <tr>\n",
       "      <th>9</th>\n",
       "      <td>341</td>\n",
       "      <td>515</td>\n",
       "      <td>3.371348</td>\n",
       "    </tr>\n",
       "    <tr>\n",
       "      <th>10</th>\n",
       "      <td>337</td>\n",
       "      <td>533</td>\n",
       "      <td>2.418107</td>\n",
       "    </tr>\n",
       "    <tr>\n",
       "      <th>11</th>\n",
       "      <td>351</td>\n",
       "      <td>508</td>\n",
       "      <td>4.233291</td>\n",
       "    </tr>\n",
       "    <tr>\n",
       "      <th>12</th>\n",
       "      <td>347</td>\n",
       "      <td>508</td>\n",
       "      <td>4.022717</td>\n",
       "    </tr>\n",
       "    <tr>\n",
       "      <th>13</th>\n",
       "      <td>276</td>\n",
       "      <td>524</td>\n",
       "      <td>2.687354</td>\n",
       "    </tr>\n",
       "    <tr>\n",
       "      <th>14</th>\n",
       "      <td>309</td>\n",
       "      <td>522</td>\n",
       "      <td>1.790002</td>\n",
       "    </tr>\n",
       "  </tbody>\n",
       "</table>\n",
       "</div>"
      ],
      "text/plain": [
       "    c_rebound_x  c_rebound_y  rebound_distance_feet\n",
       "0           285          518               2.545381\n",
       "1           319          528               1.636616\n",
       "2           439          533               9.507214\n",
       "3           346          512               3.778488\n",
       "4           492          526              13.306758\n",
       "5           321          503               3.304732\n",
       "6           245          530               4.501746\n",
       "7           287          498               3.736118\n",
       "8           222          517               6.340977\n",
       "9           341          515               3.371348\n",
       "10          337          533               2.418107\n",
       "11          351          508               4.233291\n",
       "12          347          508               4.022717\n",
       "13          276          524               2.687354\n",
       "14          309          522               1.790002"
      ]
     },
     "execution_count": 29,
     "metadata": {},
     "output_type": "execute_result"
    }
   ],
   "source": [
    "# First, calculate the pixel distance of each shot from the hoop\n",
    "shots_data['distance_pixels'] = shots_data.apply(lambda row: distance(row['c_rebound_x'], row['c_rebound_y'], hoop_x, hoop_y), axis=1)\n",
    "\n",
    "# Center free throw line\n",
    "free_throw_line_x = 306\n",
    "free_throw_line_y = 336\n",
    "\n",
    "free_throw_distance_pixels = distance(hoop_x, hoop_y, free_throw_line_x, free_throw_line_y)\n",
    "\n",
    "# Recalculate the pixel-to-foot ratio using the 15 feet assumption\n",
    "pixel_to_foot_ratio = free_throw_distance_pixels / 15\n",
    "\n",
    "# Convert the pixel distances to feet for all shots\n",
    "shots_data['rebound_distance_feet'] = shots_data['distance_pixels'] / pixel_to_foot_ratio\n",
    "\n",
    "# Drop the distance_pixels column. It was a helper column. Thanks for your help!\n",
    "shots_data = shots_data.drop(['distance_pixels'], axis=1)\n",
    "\n",
    "shots_data.head(15)"
   ]
  },
  {
   "cell_type": "code",
   "execution_count": 30,
   "id": "db48f81c-5476-4d00-af24-106268fd7722",
   "metadata": {},
   "outputs": [],
   "source": [
    "# Save the data with the new columns (rebound_distance_feet, and shot_type)\n",
    "shots_data.to_csv(\"data/all_rebounds_enhanced.csv\", index=False)"
   ]
  },
  {
   "cell_type": "code",
   "execution_count": null,
   "id": "cb518b17-f793-4085-9625-6ab979c2d969",
   "metadata": {},
   "outputs": [],
   "source": []
  }
 ],
 "metadata": {
  "kernelspec": {
   "display_name": "Python 3 (ipykernel)",
   "language": "python",
   "name": "python3"
  },
  "language_info": {
   "codemirror_mode": {
    "name": "ipython",
    "version": 3
   },
   "file_extension": ".py",
   "mimetype": "text/x-python",
   "name": "python",
   "nbconvert_exporter": "python",
   "pygments_lexer": "ipython3",
   "version": "3.11.4"
  }
 },
 "nbformat": 4,
 "nbformat_minor": 5
}
