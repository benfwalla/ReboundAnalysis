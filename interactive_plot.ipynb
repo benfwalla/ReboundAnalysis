{
 "cells": [
  {
   "cell_type": "markdown",
   "id": "bf0764fe-89d8-44d0-99a7-e258ebf2a97a",
   "metadata": {},
   "source": [
    "# Interactive Rebound Analysis Plot\n",
    "The following code was created by [GerbenBeintema's Issue](https://github.com/benfwalla/ReboundAnalysis/issues/1) with slight edits. It allows you to build a plot of the recorded shot and rebound location data in [`data/all_data_enhanced`](data/all_data_enhanced.csv) that emphasizes nearby shots of a given \"Query Point\"\n",
    "\n",
    "![image](img/interactive_plot.png)"
   ]
  },
  {
   "cell_type": "code",
   "execution_count": 1,
   "id": "2d04cb62-0331-4ed9-998f-b184d7ba4a73",
   "metadata": {},
   "outputs": [],
   "source": [
    "import numpy as np\n",
    "import matplotlib.pyplot as plt\n",
    "import ipywidgets as widgets\n",
    "import pandas as pd"
   ]
  },
  {
   "cell_type": "code",
   "execution_count": 2,
   "id": "fa80ed38-e306-486c-91a1-74069c85d353",
   "metadata": {},
   "outputs": [],
   "source": [
    "# Load the data\n",
    "df = pd.read_csv('data/all_data_enhanced.csv')\n",
    "shots = df[['shot_x', 'shot_y']].to_numpy()\n",
    "rebounds = df[['rebound_x', 'rebound_y']].to_numpy()"
   ]
  },
  {
   "cell_type": "code",
   "execution_count": 3,
   "id": "ef1dcd24-848e-4086-bd92-4fecf43cbe3e",
   "metadata": {},
   "outputs": [],
   "source": [
    "def plot_associated_shots_and_rebounds(x_pos, y_pos, n_closest=10):\n",
    "    \"\"\"\n",
    "    Plots the closest basketball shots to a given query point and their associated rebounds.\n",
    "    \n",
    "    Parameters:\n",
    "    - x_pos: x-coordinate of the query point\n",
    "    - y_pos: y-coordinate of the query point\n",
    "    - n_closest: Number of closest points to display\n",
    "    \"\"\"\n",
    "    \n",
    "    # Calculate the Euclidean distance from each shot to the query point\n",
    "    dist_shots = np.sqrt(np.sum((shots - np.array([x_pos, y_pos])) ** 2, axis=1))\n",
    "    \n",
    "    # Sort the shots by distance and select the closest ones\n",
    "    closest_indices = np.argsort(dist_shots)[:n_closest]\n",
    "    closest_shots = shots[closest_indices]\n",
    "    associated_rebounds = rebounds[closest_indices]\n",
    "    \n",
    "    # Create the plot\n",
    "    plt.figure(figsize=(7, 5))\n",
    "    plt.plot(*shots.T, 'b.', alpha=0.1, label='All Shots')\n",
    "    plt.plot(*closest_shots.T, 'bo', label='Closest Shots')\n",
    "    plt.plot(*rebounds.T, 'g.', alpha=0.1, label='All Rebounds')\n",
    "    plt.plot(*associated_rebounds.T, 'go', label='Associated Rebounds')\n",
    "    plt.plot([x_pos], [y_pos], 'ro', label='Query Point')\n",
    "    plt.xlim(0, 612)\n",
    "    plt.ylim(200, 590)\n",
    "    plt.legend(loc='lower right')\n",
    "    plt.show()"
   ]
  },
  {
   "cell_type": "code",
   "execution_count": 4,
   "id": "2dcc3584-85c8-497c-b9bf-1db6ffb56460",
   "metadata": {},
   "outputs": [
    {
     "data": {
      "application/vnd.jupyter.widget-view+json": {
       "model_id": "2c7169a0ef2f4f1cbfe9436ee2807a34",
       "version_major": 2,
       "version_minor": 0
      },
      "text/plain": [
       "interactive(children=(IntSlider(value=306, description='x_pos', max=612), IntSlider(value=395, description='y_…"
      ]
     },
     "metadata": {},
     "output_type": "display_data"
    }
   ],
   "source": [
    "# Create the interactive scatter plot with sliders for the x_pos, y_pos and n_closest\n",
    "_ = widgets.interact(\n",
    "    plot_associated_shots_and_rebounds,\n",
    "    x_pos=(0, 612, 1),\n",
    "    y_pos=(200, 590, 1),\n",
    "    n_closest=(1, 20)\n",
    ")"
   ]
  },
  {
   "cell_type": "code",
   "execution_count": null,
   "id": "b67d0c43-ff56-47f7-a21f-990fb7c834a9",
   "metadata": {},
   "outputs": [],
   "source": []
  }
 ],
 "metadata": {
  "kernelspec": {
   "display_name": "Python 3 (ipykernel)",
   "language": "python",
   "name": "python3"
  },
  "language_info": {
   "codemirror_mode": {
    "name": "ipython",
    "version": 3
   },
   "file_extension": ".py",
   "mimetype": "text/x-python",
   "name": "python",
   "nbconvert_exporter": "python",
   "pygments_lexer": "ipython3",
   "version": "3.11.4"
  }
 },
 "nbformat": 4,
 "nbformat_minor": 5
}
